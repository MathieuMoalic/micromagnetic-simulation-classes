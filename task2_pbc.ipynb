{
 "cells": [
  {
   "cell_type": "code",
   "execution_count": 1,
   "metadata": {},
   "outputs": [
    {
     "data": {
      "text/html": [
       "<style>\n",
       "                .cell-output-ipywidget-background {\n",
       "                    background-color: transparent !important;\n",
       "                }\n",
       "                .jupyter-matplotlib-footer {\n",
       "                    color: white !important;\n",
       "                }\n",
       "               </style>"
      ],
      "text/plain": [
       "<IPython.core.display.HTML object>"
      ]
     },
     "metadata": {},
     "output_type": "display_data"
    }
   ],
   "source": [
    "from pyzfn import Pyzfn as op           # 'op' function to open the .zarr files\n",
    "from pyzfn import utils                 # other various utilities\n",
    "import numpy as np                      # working with vector data\n",
    "from matplotlib import pyplot as plt    # plotting graphs\n",
    "import cmocean                          # pretty colormaps\n",
    "utils.load_mpl_style()                  # pretty graphs\n",
    "import ipywidgets"
   ]
  },
  {
   "cell_type": "markdown",
   "metadata": {},
   "source": [
    "First, we will use the `helpers.py` file to keep our functions so they can be easily accessible. Copy the `plot_2d_magnetization` function to that file. Then, run the following cell to import it."
   ]
  },
  {
   "cell_type": "code",
   "execution_count": 2,
   "metadata": {},
   "outputs": [],
   "source": [
    "# This following block import helper.py\n",
    "# In there, put functions that you will reuse\n",
    "# If you create a new function, you need to rerun this cell\n",
    "# if you modify a function, you don't need to rerun it.\n",
    "import sys\n",
    "sys.path.insert(0, '../')\n",
    "import helpers"
   ]
  },
  {
   "cell_type": "markdown",
   "metadata": {},
   "source": [
    "The function can now be called as part of the `helpers` module like the following:"
   ]
  },
  {
   "cell_type": "code",
   "execution_count": null,
   "metadata": {},
   "outputs": [],
   "source": [
    "helpers.plot_2d_magnetization()"
   ]
  },
  {
   "cell_type": "markdown",
   "metadata": {},
   "source": [
    "### Task 2\n",
    "Now, we will use a function that will plot a cross section and the 2D data, given;\n",
    " - `path`: The path to the simulation data i.e. `./simulations/task1.zarr`\n",
    " - `dset`: The dataset i.e. `m_a`, `m_b` ...\n",
    " - `c`: The component of the magnetization which is `0` for $m_x$, `1` for $m_y$ and `2` for $m_z$ \n",
    " - `yslice`: The index of the y value of the cross-section that you want between 0 and `Ny`\n",
    "\n",
    "Then, run the function for `m_a`, `m_b`, `m_c` and `m_d`\n",
    "\n",
    "/!\\ Careful: No variables that were defined outside the function must be used inside the function or you will regret it later !"
   ]
  },
  {
   "cell_type": "code",
   "execution_count": null,
   "metadata": {},
   "outputs": [],
   "source": [
    "def cross_section(path:str,dset:str,c:int, y_slice:int):\n",
    "    fig, (ax1,ax2) = plt.subplots(2,1,figsize=(10,6),sharex=True) \n",
    "    task = op(path) # open the .zarr file\n",
    "    cross_section = task[dset][0,0,y_slice,:,c] # we select t=0, z=0, y=50 and c=1 but we keep all data for x\n",
    "    x = np.arange(cross_section.shape[0]) * task.dx * 1e9\n",
    "\n",
    "    ax1.plot(x,cross_section) # use the `plot` function to display 1D data.\n",
    "    ax1.set_ylim(-1,1) # set the y axis limits\n",
    "    ax1.set_ylabel(r\"$m_y$\") # adding a label for the y axis of the plot, we are plotting m_y in nm\n",
    "    ax2.set_xlabel(r\"$x$ (nm)\") # adding a label for the x axis of the plot, we are plotting m_y in nm\n",
    "    ax2.set_ylabel(r\"$y$ (nm)\") # adding a label for the y axis of the plot, we are plotting m_y in nm\n",
    "    ax1.grid(True) # add a grid to the plot\n",
    "    ax2.grid(True) # add a grid to the plot\n",
    "    \n",
    "    xyplane = task[dset][0,0,:,:,c] # we select t=0, z=0, and c=0 but we keep all data for y and x (the xyplane)\n",
    "    im = ax2.imshow( # plot the magnetization component\n",
    "        task[dset][0,0,:,:,c],  # `mag` is a numpy array\n",
    "        cmap=cmocean.cm.balance,  # pretty colormap\n",
    "        origin=\"lower\", # put the origin at the bottom left\n",
    "        extent=[0, task.Tx*1e9, 0, task.Ty*1e9], # set the x and y axis limits ( in nm )\n",
    "        vmin=-1, # set the color scale limits ( reducded magnetization is from -1 to 1 )\n",
    "        vmax=1 # set the color scale limits ( reducded magnetization is from -1 to 1 )\n",
    "    )\n",
    "\n",
    "    ax2.axhline(y_slice * task.dx * 1e9,ls='--',c='k') # we had a dashed line on the image to see where x=20 is\n",
    "    cax = ax2.inset_axes([1.01,0,0.02,1],transform=ax2.transAxes)\n",
    "    cax.grid(False)\n",
    "    fig.colorbar(im,cax=cax)\n",
    "    cax.set_ylabel(r\"$m_y$\")\n"
   ]
  },
  {
   "cell_type": "markdown",
   "metadata": {},
   "source": [
    "Changing all of these values can be tedious, we can use \"widgets\" to create an interactive plot.\n",
    "Now, `dset`, `c` and `y_slice` are given through sliders and drop downs"
   ]
  },
  {
   "cell_type": "code",
   "execution_count": null,
   "metadata": {},
   "outputs": [],
   "source": [
    "def interactive_cross_section(path:str):\n",
    "    fig, (ax1,ax2) = plt.subplots(2,1,figsize=(10,6),sharex=True) \n",
    "    task = op(path) # open the .zarr file\n",
    "\n",
    "    def plot(y_slice:int, dset:str, c:int):\n",
    "        ax1.clear()\n",
    "        ax2.clear()\n",
    "        ax2.axhline(y_slice * task.dx * 1e9,ls='--',c='k') # we had a dashed line on the image to see where x=20 is\n",
    "        cross_section = task[dset][0,0,y_slice,:,c] # we select t=0, z=0, y=50 and c=1 but we keep all data for x\n",
    "        x = np.arange(cross_section.shape[0]) * task.dx * 1e9\n",
    "\n",
    "        ax1.plot(x,cross_section) # use the `plot` function to display 1D data.\n",
    "        ax1.set_ylim(-1,1) # set the y axis limits\n",
    "        ax1.set_ylabel(rf\"$m_{['x','y','z'][c]}$\") # adding a label for the y axis of the plot, we are plotting m_y in nm\n",
    "        ax2.set_xlabel(r\"$x$ (nm)\") # adding a label for the x axis of the plot, we are plotting m_y in nm\n",
    "        ax2.set_ylabel(r\"$y$ (nm)\") # adding a label for the y axis of the plot, we are plotting m_y in nm\n",
    "        ax1.grid(True) # add a grid to the plot\n",
    "        ax2.grid(True) # add a grid to the plot\n",
    "        \n",
    "        xyplane = task[dset][0,0,:,:,c] # we select t=0, z=0, and c=0 but we keep all data for y and x (the xyplane)\n",
    "        im = ax2.imshow( # plot the magnetization component\n",
    "            task[dset][0,0,:,:,c],  # `mag` is a numpy array\n",
    "            cmap=cmocean.cm.balance,  # pretty colormap\n",
    "            origin=\"lower\", # put the origin at the bottom left\n",
    "            extent=[0, task.Tx*1e9, 0, task.Ty*1e9], # set the x and y axis limits ( in nm )\n",
    "            vmin=-1, # set the color scale limits ( reducded magnetization is from -1 to 1 )\n",
    "            vmax=1 # set the color scale limits ( reducded magnetization is from -1 to 1 )\n",
    "        )\n",
    "        cax = ax2.inset_axes([1.01,0,0.02,1],transform=ax2.transAxes)\n",
    "        cax.grid(False)\n",
    "        fig.colorbar(im,cax=cax)\n",
    "        cax.set_ylabel(r\"$m_y$\")\n",
    "\n",
    "    ipywidgets.interact(\n",
    "        plot,\n",
    "        dset=list(task.keys()), \n",
    "        c=[('mx', 0), ('my', 1), ('mz', 2)], \n",
    "        y_slice=ipywidgets.IntSlider(min=0, max=100, step=1, value=50)\n",
    "    )\n",
    "\n",
    "interactive_cross_section(\"./simulations/task1.zarr\")"
   ]
  },
  {
   "cell_type": "markdown",
   "metadata": {},
   "source": [
    "Add these 2 functions to `helpers.py` "
   ]
  },
  {
   "attachments": {},
   "cell_type": "markdown",
   "metadata": {},
   "source": [
    "### Periodic boundary conditions\n",
    "\n",
    "Calculate static magnetic configuration in a 1000 nm long and 200 nm wide and 5 nm thick permalloy stripe assuming periodic boundary conditions with 10 repetitions along the $x$ axis (it will allow you to study magnetic configuration in an infinitely long stripe).\n",
    "* To implement periodic boundary conditions (PBC) with 10 repetitions along the $x$-axis, set the appropriate variable: `PBCx=10`. This must be placed before `setgeom()` !\n",
    "* Use exactly the same parameters as in `task1`.\n",
    "* Perform calculations for the same field values as `task1`:\n",
    "\n",
    " - Make the modifications asked above in `task2.mx3` and run it.\n",
    " - Using the `helpers.interactive_cross_section` function, observe the differences in magnetization between `task1` and `task2`"
   ]
  },
  {
   "cell_type": "code",
   "execution_count": null,
   "metadata": {},
   "outputs": [],
   "source": [
    "# code here ..."
   ]
  },
  {
   "cell_type": "markdown",
   "metadata": {},
   "source": [
    " - Set both `PBCx=10` and `PBCy=10`. \n",
    " - Observe the differences."
   ]
  },
  {
   "cell_type": "code",
   "execution_count": 1,
   "metadata": {},
   "outputs": [],
   "source": [
    "# code here ..."
   ]
  }
 ],
 "metadata": {
  "kernelspec": {
   "display_name": ".env",
   "language": "python",
   "name": "python3"
  },
  "language_info": {
   "codemirror_mode": {
    "name": "ipython",
    "version": 3
   },
   "file_extension": ".py",
   "mimetype": "text/x-python",
   "name": "python",
   "nbconvert_exporter": "python",
   "pygments_lexer": "ipython3",
   "version": "3.9.18"
  },
  "vscode": {
   "interpreter": {
    "hash": "18f6cda260415cbc8c0bc229105ce449ae0813be81d3fe2b85d9f14cca338e8b"
   }
  }
 },
 "nbformat": 4,
 "nbformat_minor": 4
}
