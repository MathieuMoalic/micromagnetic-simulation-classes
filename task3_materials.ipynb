{
 "cells": [
  {
   "cell_type": "code",
   "execution_count": 1,
   "metadata": {},
   "outputs": [
    {
     "data": {
      "text/html": [
       "<style>\n",
       "                .cell-output-ipywidget-background {\n",
       "                    background-color: transparent !important;\n",
       "                }\n",
       "                .jupyter-matplotlib-footer {\n",
       "                    color: white !important;\n",
       "                }\n",
       "               </style>"
      ],
      "text/plain": [
       "<IPython.core.display.HTML object>"
      ]
     },
     "metadata": {},
     "output_type": "display_data"
    }
   ],
   "source": [
    "from pyzfn import Pyzfn as op           # 'op' function to open the .zarr files\n",
    "from pyzfn import utils                 # other various utilities\n",
    "import numpy as np                      # working with vector data\n",
    "from matplotlib import pyplot as plt    # plotting graphs\n",
    "import cmocean                          # pretty colormaps\n",
    "utils.load_mpl_style()                  # pretty graphs\n",
    "import sys\n",
    "sys.path.insert(0, '../')\n",
    "import helpers"
   ]
  },
  {
   "attachments": {},
   "cell_type": "markdown",
   "metadata": {},
   "source": [
    "### Task 3\n",
    " - Pick a ferromagnetic material from https://www.boris-spintronics.uk/online-materials-database/\n",
    " - Make the changes of material parameters in `task3.mx3`.\n",
    " - Observe the changes"
   ]
  },
  {
   "cell_type": "code",
   "execution_count": 1,
   "metadata": {},
   "outputs": [],
   "source": [
    "# code here ..."
   ]
  },
  {
   "cell_type": "markdown",
   "metadata": {},
   "source": [
    "- Increase the exchange stiffness by 100 times\n",
    "- Observe the changes"
   ]
  },
  {
   "cell_type": "code",
   "execution_count": 2,
   "metadata": {},
   "outputs": [],
   "source": [
    "# code here ..."
   ]
  },
  {
   "cell_type": "markdown",
   "metadata": {},
   "source": [
    "#### Magnetic anisotropy\n",
    "\n",
    "Magnetic anisotropy refers to the directional dependence of a material's magnetic properties. It is a fundamental characteristic of magnetic materials that causes them to exhibit different magnetic behavior along different directions. This anisotropy arises from the interaction of magnetic moments with the crystalline, shape, or stress-induced features of the material, leading to preferred directions (easy axes) along which the magnetic moments tend to align.\n",
    "\n",
    "There are several types of magnetic anisotropy, including:\n",
    "\n",
    "1. **Crystalline (or magnetocrystalline) anisotropy**: This type is caused by the interaction between the crystal lattice and the magnetic moments of the atoms. It results from the spin-orbit coupling and depends on the crystal structure of the material. Different crystallographic directions have different energies, leading to preferred directions of magnetization.\n",
    "\n",
    "2. **Shape anisotropy**: Arises from the demagnetizing fields due to the shape of the magnetic material. Thin films, for example, tend to have easy planes of magnetization parallel to the surface, due to the minimization of the magnetic stray fields and the associated energy.\n",
    "\n",
    "3. **Stress-induced anisotropy (magnetoelastic anisotropy)**: Caused by stresses within the material, which can be due to external forces or internal strains. These stresses can alter the energy landscape of the material, creating preferred directions for magnetic alignment.\n",
    "\n",
    "4. **Surface anisotropy**: Relevant for very thin films or nanoparticles, where the surface atoms experience different environments compared to the bulk atoms. This can lead to different magnetic behaviors at the surface, influencing the overall magnetic properties of the material.\n",
    "\n",
    "Magnetic anisotropy plays a crucial role in determining the magnetic behavior of materials, affecting their coercivity, remanence, and overall magnetic performance. It is a key parameter in the design of magnetic devices, including memory storage elements, sensors, and actuators, where controlled magnetic properties are essential."
   ]
  },
  {
   "cell_type": "markdown",
   "metadata": {},
   "source": [
    "To add uniaxial anisotropy in simulations, you need to add these two lines:\n",
    "```go\n",
    "AnisU = vector(0,0,1) // This is the direction of the anisotropy, here out of plane\n",
    "Ku1 = 800e3 // 1st order uniaxial anisotropy constant (J/m3)\n",
    "```\n",
    "\n",
    "- Revert the exchange stiffness to the correct value for the chosen material\n",
    "- Add a strong Uniaxial anisotropy\n",
    "- Observe the changes"
   ]
  },
  {
   "cell_type": "code",
   "execution_count": 3,
   "metadata": {},
   "outputs": [],
   "source": [
    "# code here ..."
   ]
  }
 ],
 "metadata": {
  "kernelspec": {
   "display_name": ".env",
   "language": "python",
   "name": "python3"
  },
  "language_info": {
   "codemirror_mode": {
    "name": "ipython",
    "version": 3
   },
   "file_extension": ".py",
   "mimetype": "text/x-python",
   "name": "python",
   "nbconvert_exporter": "python",
   "pygments_lexer": "ipython3",
   "version": "3.9.18"
  },
  "vscode": {
   "interpreter": {
    "hash": "18f6cda260415cbc8c0bc229105ce449ae0813be81d3fe2b85d9f14cca338e8b"
   }
  }
 },
 "nbformat": 4,
 "nbformat_minor": 4
}
