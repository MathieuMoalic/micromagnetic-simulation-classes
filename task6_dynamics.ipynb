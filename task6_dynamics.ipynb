{
 "cells": [
  {
   "cell_type": "code",
   "execution_count": null,
   "metadata": {},
   "outputs": [],
   "source": [
    "from pyzfn import Pyzfn as op           # 'op' function to open the .zarr files\n",
    "from pyzfn import utils                 # other various utilities\n",
    "import numpy as np                      # working with vector data\n",
    "from matplotlib import pyplot as plt    # plotting graphs\n",
    "import cmocean                          # pretty colormaps\n",
    "utils.load_mpl_style()                  # pretty graphs\n",
    "# This following block import helper.py\n",
    "# In there, put functions that you will reuse\n",
    "# If you create a new function, you need to rerun this cell\n",
    "# if you modify a function, you don't need to rerun it.\n",
    "import sys\n",
    "sys.path.insert(0, '../')\n",
    "import helpers"
   ]
  },
  {
   "cell_type": "markdown",
   "metadata": {},
   "source": [
    "### Task 4\n",
    "From the code above, make a function that will plot a cross section and the 2D data, given the path to the magnetization data (`path`), the dataset ( also called `array` sometimes ) you want to look at (`dset`) and the component of the magnetization (`c`) which is 0 for m_x, 1 for m_y and 2 for m_z.\n",
    "\n",
    "Then, run the function for a),b),c) and d)\n",
    "\n",
    "/!\\ Careful: No variables that were defined outside the function must be used inside the function or you will regret it later !"
   ]
  },
  {
   "cell_type": "code",
   "execution_count": null,
   "metadata": {},
   "outputs": [],
   "source": [
    "# code here\n",
    "y_slice=50\n",
    "c=1\n",
    "def top_view_with_cross_section(path:str,dset:str,c:int):\n",
    "    ma_y = path.m[0,0,y_slice,:,c] # we select t=0, z=0, y=50 and c=1 but we keep all data for x\n",
    "    x = np.arange(ma_y.shape[0]) * path.dx * 1e9\n",
    "\n",
    "    # create an empty figure where we will display the data\n",
    "    fig, (ax1,ax2) = plt.subplots(2,1,figsize=(10,6),sharex=True) \n",
    "\n",
    "    ax1.plot(x,ma_y) # use the `plot` function to display 1D data.\n",
    "    ax1.set_ylabel(r\"$m_y$\") # adding a label for the y axis of the plot, we are plotting m_y in nm\n",
    "    \n",
    "    xyplane = path.m[0,0,:,:,c] # we select t=0, z=0, and c=0 but we keep all data for y and x (the xyplane)\n",
    "    im = ax2.imshow(xyplane,\n",
    "        extent=[\n",
    "            0, # y0 \n",
    "            xyplane.shape[1] * path.dy * 1e9, # ymax\n",
    "            0, # x0\n",
    "            xyplane.shape[0] * path.dx * 1e9 # xmax\n",
    "            ],\n",
    "        aspect='equal',\n",
    "        origin='lower',\n",
    "        ) # use the `imshow` function to display 2D images ( and only 2D!!).\n",
    "    ax2.set_xlabel(r\"$x$ (nm)\")\n",
    "    ax2.set_ylabel(r\"$y$\");\n",
    "\n",
    "    ax2.axhline(y_slice * path.dx * 1e9,ls='--',c='k') # we had a dashed line on the image to see where x=20 is\n",
    "\n",
    "    cax = ax2.inset_axes([1.01,0,0.02,1],transform=ax2.transAxes)\n",
    "    cax.grid(False)\n",
    "    fig.colorbar(im,cax=cax)\n",
    "    cax.set_ylabel(r\"$m_y$\")\n",
    "top_view_with_cross_section()"
   ]
  },
  {
   "cell_type": "markdown",
   "metadata": {},
   "source": [
    "## Part 2"
   ]
  },
  {
   "attachments": {},
   "cell_type": "markdown",
   "metadata": {},
   "source": [
    "### Task 6\n",
    "\n",
    "Calculate static magnetic configuration in a 1000 nm long and 200 nm wide and 5 nm thick permalloy stripe assuming periodic boundary conditions with 10 repetitions along the $x$ axis (it will allow you to study magnetic configuration in an infinitely long stripe).\n",
    "* To implement periodic boundary conditions (PBC) with 10 repetitions along the $x$-axis, set the appropriate variable: `PBCx=10`\n",
    "* Use exactly the same parameters as in Part 1.\n",
    "* Perform calculations for the field value: $B_\\mathrm{ext} = (0, 0, 0)$, i.e., `B_ext=vector(0, 0, 0)`,\n",
    "\n",
    "Copy the `part1.mx3` and save it as `part2.mx3`, make the modifications asked above and run it."
   ]
  },
  {
   "cell_type": "markdown",
   "metadata": {},
   "source": [
    "### Task 7\n",
    "\n",
    "Visualize the results of the micromagnetic simulations using `top_view_with_cross_section` and `quiver` that you defined earlier."
   ]
  },
  {
   "cell_type": "code",
   "execution_count": null,
   "metadata": {},
   "outputs": [],
   "source": [
    "# code here ..."
   ]
  },
  {
   "cell_type": "markdown",
   "metadata": {},
   "source": [
    "### Task 8\n",
    "Notice the file `helpers.py`. In there, copy the functions `top_view_with_cross_section` and `quiver` that you defined earlier. "
   ]
  },
  {
   "cell_type": "code",
   "execution_count": null,
   "metadata": {},
   "outputs": [],
   "source": [
    "# if you add new functions, you need to re-import but not if you update the functions\n",
    "import helpers as h"
   ]
  },
  {
   "cell_type": "code",
   "execution_count": null,
   "metadata": {},
   "outputs": [],
   "source": [
    "h.myfunc(\"hi :)\")"
   ]
  },
  {
   "cell_type": "markdown",
   "metadata": {},
   "source": [
    "Now, in `helpers.py` create a new function called `avr_m` that will print the average magnetization of an array and use it on the data in `part2.zarr`:"
   ]
  },
  {
   "cell_type": "code",
   "execution_count": null,
   "metadata": {},
   "outputs": [],
   "source": [
    "# code here ..."
   ]
  },
  {
   "attachments": {},
   "cell_type": "markdown",
   "metadata": {},
   "source": [
    "## Part 3\n",
    "### Task 9\n",
    "Calculate static magnetic configuration in a 1000 nm long and 200 nm wide and 5 nm thick permalloy stripe assuming periodic boundary conditions with 10 repetitions along the $x$ axis and 50 repetitions along the $y$-axis (it will allow you to study magnetic configuration in an infinite thin film).\n",
    "* Use exactly the same parameters as in Part 1.\n",
    "* Perform calculations for the filed value: $B_\\mathrm{ext} = (0, 0, 0)$, i.e., `B_ext=vector(0, 0, 0)`,\n",
    "\n",
    "Save the file as `part3.mx3`"
   ]
  },
  {
   "cell_type": "markdown",
   "metadata": {},
   "source": [
    "### Task 10\n",
    "Show the top view of the film for $m_x$, $m_y$ and $m_z$, don't forget to add colorbars and axis labels.\n",
    "Also, use the `quiver` function on these data."
   ]
  },
  {
   "cell_type": "code",
   "execution_count": null,
   "metadata": {},
   "outputs": [],
   "source": [
    "# code here ..."
   ]
  },
  {
   "attachments": {},
   "cell_type": "markdown",
   "metadata": {},
   "source": [
    "## Part 4\n",
    "### Task 11\n",
    "\n",
    "Calculate static magnetic configuration in a 1000 nm long and 200 nm wide and 5 nm thick permalloy stripe with a centrally placed hole of diameter 100 nm.\n",
    "The system has the following magnetic parameters: \n",
    "\n",
    "* Use the same magnetic parameters as in Part 1.\n",
    "\n",
    "Perform calculations for three different field values:\n",
    "\n",
    "a) $B_\\mathrm{ext} = (0, 0.5~\\mathrm{T}, 0)$, i.e., `B_ext=vector(0, 0.5, 0)`,\n",
    "\n",
    "b) $B_\\mathrm{ext} = (0, 0, 0)$, i.e., `B_ext=vector(0, 0, 0)`,\n",
    "\n",
    "Save the script file as `part4.mx3`"
   ]
  },
  {
   "attachments": {},
   "cell_type": "markdown",
   "metadata": {},
   "source": [
    "### Task 12\n",
    "Show the top view of the film for $m_x$, $m_y$ and $m_z$, don't forget to add colorbars and axis labels.\n",
    "Also, use the `quiver` function on these data."
   ]
  },
  {
   "cell_type": "markdown",
   "metadata": {},
   "source": [
    "## Part 5\n",
    "#### Loops in mumax\n",
    "A very useful structure in mumax are loops:\n",
    "\n",
    "```go\n",
    "start := 0\n",
    "stop := 10\n",
    "step := 1\n",
    "for x:=start; x<=stop; x+=step{\n",
    "    // stuff here\n",
    "}\n",
    "```\n",
    "They are used to derive the hysteresis loop of the studied structure.\n",
    "You can find an example from https://mumax.github.io/examples.html#example3:\n",
    "\n",
    "### Task 13 - hysteresis loop\n",
    "Calculate hysteresis loops for the system from Part 4:\n",
    "\n",
    "* External magnetic field changing along the $y$ axis: $B_y: 0 \\rightarrow 1\\mathrm{T} \\rightarrow -1T \\rightarrow 1T$ with steps of 20 mT\n",
    "* for each field value, save the magnetic configuration\n",
    "\n",
    "Create a file called `hysteresis.mx3` and implement the hysteresis loop."
   ]
  },
  {
   "cell_type": "code",
   "execution_count": null,
   "metadata": {},
   "outputs": [],
   "source": [
    "# code here ..."
   ]
  },
  {
   "cell_type": "markdown",
   "metadata": {},
   "source": [
    "### Task 14\n",
    "Plot the hysteresis loop"
   ]
  },
  {
   "cell_type": "code",
   "execution_count": null,
   "metadata": {},
   "outputs": [],
   "source": [
    "# code here ..."
   ]
  },
  {
   "cell_type": "markdown",
   "metadata": {},
   "source": [
    "### Task 15\n",
    "Plot the top view of $m_y$ for $B_{ext,y}=0$, for the 3 points where the line crosses."
   ]
  },
  {
   "cell_type": "code",
   "execution_count": null,
   "metadata": {},
   "outputs": [],
   "source": [
    "# code here ..."
   ]
  },
  {
   "cell_type": "code",
   "execution_count": null,
   "metadata": {},
   "outputs": [],
   "source": []
  }
 ],
 "metadata": {
  "kernelspec": {
   "display_name": ".env",
   "language": "python",
   "name": "python3"
  },
  "language_info": {
   "codemirror_mode": {
    "name": "ipython",
    "version": 3
   },
   "file_extension": ".py",
   "mimetype": "text/x-python",
   "name": "python",
   "nbconvert_exporter": "python",
   "pygments_lexer": "ipython3",
   "version": "3.9.18"
  },
  "vscode": {
   "interpreter": {
    "hash": "18f6cda260415cbc8c0bc229105ce449ae0813be81d3fe2b85d9f14cca338e8b"
   }
  }
 },
 "nbformat": 4,
 "nbformat_minor": 4
}
