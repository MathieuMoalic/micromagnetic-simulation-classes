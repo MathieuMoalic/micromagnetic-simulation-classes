{
 "cells": [
  {
   "attachments": {},
   "cell_type": "markdown",
   "metadata": {},
   "source": [
    "# Introduction\n",
    "\n",
    "The time derivative of magnetization can be expressed as follows:\n",
    "\n",
    "$$\\frac{\\partial \\mathbf{m} }{ \\partial t} = \\boldsymbol{\\tau}$$\n",
    "\n",
    "where $\\mathbf{m}$ is the reduced magnetization ($\\mathbf{m} = \\mathbf{M}/M_\\text{S}$), and $\\boldsymbol{\\tau}$ describes torques acting on magnetization. In mumax3 are implemented three basic torques:\n",
    "\n",
    "* Landau-Lifshitz torque, $\\boldsymbol{\\tau}_{\\text{LL}}$\n",
    "* Zhang-Li spin-transfer torque\n",
    "* Slonczewski spin-transfer torque\n",
    "\n",
    "During this labs, we will focus only on Landau-Lifshitz torque:\n",
    "\n",
    "$$\\boldsymbol{\\tau}_{\\text{LL}} = \\gamma _\\text{LL} \\frac{1}{1+\\alpha^2} \\left( \\mathbf{m} \\times \\mathbf{B}_\\text{eff} + \\alpha \\mathbf{m} \\times \\left( \\mathbf{m} \\times \\mathbf{B}_\\text{eff}  \\right) \\right)$$\n",
    "\n",
    "where $\\mathbf{B}_\\text{eff}$ is the effective magnetic field consisting from:\n",
    "\n",
    "* externally aplied field (Zeeman field)  $\\mathbf{B}_\\text{ext}$, (in mumax: ` B_ext `),\n",
    "* Heisenberg exchange field  $\\mathbf{B}_\\text{exch}$ , (in mumax: ` B_exch `),\n",
    "* dipolar field  $\\mathbf{B}_\\text{demag}$, (in mumax: ` B_demag `),\n",
    "* Dzyaloshinskii-Moriya exchange field  $\\mathbf{B}_\\text{dmi}$, (in mumax: ` B_dm `),\n",
    "* magnetocrystalline anisotropy field  $\\mathbf{B}_\\text{anis}$, (in mumax: ` B_anis `),\n",
    "* thermal field  $\\mathbf{B}_\\text{therm}$, (in mumax: ` B_therm `).\n",
    "\n",
    "\n",
    "See details in \"The design and verification of mumax3\", AIP Advances 4, 107133 (2014):\n",
    "http://scitation.aip.org/content/aip/journal/adva/4/10/10.1063/1.4899186"
   ]
  },
  {
   "attachments": {},
   "cell_type": "markdown",
   "metadata": {},
   "source": [
    "# How to prepare a simulation\n",
    "Simulation scripts should be written in simplified `go` language.\n",
    "Very good tutorials can be found on the [mumax3 examples page](http://mumax.github.io/examples.html)\n",
    "## Steps of modeling:\n",
    "### Static and dynamic simulations:\n",
    "1.  Definition of the mesh (discretization), i.e., lateral dimensions of the system under study, cell size, periodic boundary conditions if needed (with the number of repetitions)\n",
    "2.  Definition of the geometry\n",
    "3.  Definition of regions that can have different magnetic parameters\n",
    "4.  Definition of magnetic parameters ($M_\\text{S}$, $A_\\text{ex}$, $\\alpha$ ....) which then be matched to particular regions\n",
    "5.  Definition of the initial magnetization configuration (if we do not specify it, mumax will start from the random magnetic configuration), example.: `m = uniform(0.1, 1.0, 0)`\n",
    "6.  Definition of the external magnetic field\n",
    "7.  System relaxation/stabilization, functions `relax()` or `minimize()`\n",
    "--------------------------\n",
    "### Dynamic simulations only:\n",
    "8.  Selection of solver and discretization in time\n",
    "9.  Definition of the sampling (frequency of the data saving)\n",
    "10. dynamic simulations( function: `run(float how_long)` or `RunWhile(bool condition)`)\n",
    "\n",
    "\n",
    "\n",
    "### How to run a simulation\n",
    "\n",
    "Scripts with simulations must have `.mx3` extension (`myfile.mx3`)!\n",
    "\n",
    "To run a simulation, right-click a `.mx3` file and select `run code` or open the file and click on the arrow in the top right corner of the editor. Don't forget to save it before!\n",
    "\n",
    "The output is automatically stored in the `myfile.zarr` directory. \n",
    "\n",
    "To view the simulation webui as it is running, open (`https://amumax.x.zfn2.matmoa.xyz`)"
   ]
  },
  {
   "attachments": {},
   "cell_type": "markdown",
   "metadata": {},
   "source": [
    "## Simulations of a static magnetic configuration \n",
    "\n",
    "\n",
    "### Relaxation \n",
    "\n",
    "To relax the system you can use command: `relax()` or `minimize()`. \n",
    "\n",
    "\n",
    "Important: sometimes, an error can occur when simulations are initiated from an ideally saturated configuration, e.g. `m = uniform(0, 0, 1)`. It is a bug. In order to avoid such an issue, better to set an almost ideally saturated system: `m = uniform(1e-7, 0, 1)`. \n",
    "\n",
    "\n",
    "### Data storing \n",
    "\n",
    "\n",
    "#### PNG files -- `Snapshot(q Quantity, fname string)` \n",
    "\n",
    "\n",
    "To save data you can use `Snapshot(m)`, `Snapshot(m.comp(2))` or `saveas(m, \"m_stab\")`. The last option give you a full information about the magnetic configuration whereas `Snapshot` function generate png files. \n",
    "\n",
    "\n",
    "#### Zarr files -- `SaveAs(q Quantity, fname string)`, `AutoSave(q Quantity, period float64)` \n",
    "\n",
    "\n",
    "In order to save some quantity from simulations (`m, m.comp(), B_ext, B_demag, ...`) one may use `SaveAs` function saving the vector (or scalar) fields as a zarr array: \n",
    "\n",
    "\n",
    "`SaveAs(q Quantity, fname string)` \n",
    "\n",
    "\n",
    "for example: \n",
    "\n",
    "\n",
    "`SaveAs(B_ext.comp(2), \"B_ext_z\")` \n",
    "\n",
    "\n",
    "Sometimes it would be more usefull to **generate filenames automatically**. For instance, one can introduce to the name value of some variables, e.g., `B_ext`: \n",
    "\n",
    "\n",
    "` saveas(m,Sprintf(\"m_field%3.4f\",B_ext)) ` \n",
    "\n",
    "\n",
    "In the case of dynamic simulations, it is more convenient to save data with a precise sampling interval. In order to do so, we can use: \n",
    "\n",
    "\n",
    "`AutoSave(q Quantity, period float64)` \n",
    "\n",
    "\n",
    "for instance: \n",
    "\n",
    "\n",
    "`AutoSave(m, 2e-11)` \n",
    "\n",
    "\n",
    "that will autosave magnetization (all three components) with the interval of 20 ps. It gives a resolution up to 25 GHz in the spectral domain. "
   ]
  },
  {
   "attachments": {},
   "cell_type": "markdown",
   "metadata": {},
   "source": [
    "### Task 1: Run the simulation\n",
    "\n",
    "Calculate static magnetic configuration in a 1000 nm long and 200 nm wide and 5 nm thick permalloy stripe.\n",
    "The system has the following magnetic parameters: \n",
    "\n",
    "* the magnetization saturation $M_S=800 \\times 10^3$ A/m, \n",
    "* the exchange constant $A_\\mathrm{ex} = 13 \\times 10^{-12}$ J/m, \n",
    "* the damping constant $\\alpha=0.001$.\n",
    "\n",
    "Use the following discretization: $d_x\\times d_y \\times d_z = 2 \\times 2 \\times 5~\\mathrm{nm}^3$.\n",
    "\n",
    "Save results of each simulation as a Zarr array and a PNG file using the commands:\n",
    "* `save(m) // saving as Zarr array`\n",
    "* `snapshot(m) // saving as PNG`\n",
    "\n",
    "In the file `lab1/simulations/task1.mx3`, modify it so that mumax calculates the stable magnetization of the system for 4 different field values:\n",
    "\n",
    "a) $B_\\mathrm{ext} = (0, 0, 0)$, i.e., `B_ext=vector(0, 0, 0)`,\n",
    "\n",
    "b) $B_\\mathrm{ext} = (0, 1~\\mathrm{T}, 0)$, i.e., `B_ext=vector(0, 1, 0)`,\n",
    "\n",
    "c) $B_\\mathrm{ext} = (0, 0, 0.5~\\mathrm{T})$, i.e., `B_ext=vector(0, 0, 0.5)`,\n",
    "\n",
    "d) $B_\\mathrm{ext} = (0, 0, 1~\\mathrm{T})$, i.e., `B_ext=vector(0, 0, 1)`.\n",
    "\n",
    "For each $B_\\mathrm{ext}$ you will relax the system and save the magnetization as an image and an array with the name `m_a` for a), `m_b` for b) and so on.\n",
    "\n",
    "Don't hesitate to refer to the [mumax API](https://mumax.github.io/api.html)"
   ]
  },
  {
   "cell_type": "markdown",
   "metadata": {},
   "source": [
    "### Working with `.zarr` data using the `pyzfn` library\n",
    "Source code of the library: [https://github.com/MathieuMoalic/pyzfn](https://github.com/MathieuMoalic/pyzfn)"
   ]
  },
  {
   "cell_type": "code",
   "execution_count": null,
   "metadata": {},
   "outputs": [],
   "source": [
    "from pyzfn import Pyzfn as op           # 'op' function to open the .zarr files\n",
    "from pyzfn import utils                 # other various utilities\n",
    "import numpy as np                      # working with vector data\n",
    "from matplotlib import pyplot as plt    # plotting graphs\n",
    "import cmocean                          # pretty colormaps\n",
    "utils.load_mpl_style()                  # pretty graphs"
   ]
  },
  {
   "cell_type": "code",
   "execution_count": null,
   "metadata": {},
   "outputs": [],
   "source": [
    "# Open the simulation data in python\n",
    "task1 = op(\"./simulations/task1.zarr\")\n",
    "# To visualize which arrays you saved in a simulation:\n",
    "task1.p"
   ]
  },
  {
   "cell_type": "code",
   "execution_count": null,
   "metadata": {},
   "outputs": [],
   "source": [
    "# Getting simulation metadata:\n",
    "# json file located at ./simulations/p1.zarr/.attrs\n",
    "# You can access it like a python dict:\n",
    "dx = task1.attrs[\"dx\"] \n",
    "# or as a class attribute (given that you have no dataset named similarly):\n",
    "dx = task1.dx\n",
    "print(f\"{dx=} m\")"
   ]
  },
  {
   "cell_type": "code",
   "execution_count": null,
   "metadata": {},
   "outputs": [],
   "source": [
    "# Get data you saved in amumax:\n",
    "#             t,z,y,x,c\n",
    "mag = task1.m[0,0,:,:,0] # `mag` is a numpy array\n",
    "print(f\"{mag.shape=}\")"
   ]
  },
  {
   "cell_type": "code",
   "execution_count": null,
   "metadata": {},
   "outputs": [],
   "source": [
    "# Some very useful info\n",
    "task1.m.info"
   ]
  },
  {
   "cell_type": "markdown",
   "metadata": {},
   "source": [
    "### A simple visualization example"
   ]
  },
  {
   "cell_type": "code",
   "execution_count": null,
   "metadata": {},
   "outputs": [],
   "source": [
    "plt.figure() # create empty figure\n",
    "#                  t,z,y,x,c\n",
    "plt.imshow(task1.m[0,0,:,:,1])"
   ]
  },
  {
   "cell_type": "markdown",
   "metadata": {},
   "source": [
    "### A more thourough visualization:\n",
    "Use the previous code to visualize the in-plane magnetization along the y axis for a),b),c) and d)"
   ]
  },
  {
   "cell_type": "code",
   "execution_count": null,
   "metadata": {},
   "outputs": [],
   "source": [
    "def plot_2d_magnetization(path:str, dset:str):\n",
    "    task = op(path) # Open the simulation data in python\n",
    "    fig, axes = plt.subplots(3,1, figsize=(10, 5), sharex=True, sharey=True) # create empty figure\n",
    "    for comp,ax in enumerate(axes): # loop over the 3 components of the magnetization\n",
    "        im = ax.imshow( # plot the magnetization component\n",
    "            task[dset][0,0,:,:,comp],  # `mag` is a numpy array\n",
    "            cmap=cmocean.cm.balance,  # pretty colormap\n",
    "            origin=\"lower\", # put the origin at the bottom left\n",
    "            extent=[0, task.Tx*1e9, 0, task.Ty*1e9], # set the x and y axis limits ( in nm )\n",
    "            vmin=-1, # set the color scale limits ( reducded magnetization is from -1 to 1 )\n",
    "            vmax=1 # set the color scale limits ( reducded magnetization is from -1 to 1 )\n",
    "            )\n",
    "        ax.grid(True) # show the grid\n",
    "        cb = fig.colorbar(im, ax=ax) # add a colorbar\n",
    "        cb.set_label(f\"m_{['x','y','z'][comp]}\") # set the colorbar label\n",
    "        ax.set_ylabel(\"y (nm)\") # set the y axis label\n",
    "    axes[-1].set_xlabel(\"x (nm)\") # set the x axis label\n",
    "    plt.tight_layout() # make the plot pretty\n",
    "\n",
    "\n",
    "plot_2d_magnetization(path=\"./simulations/task1.zarr\", dset=\"m_a\") # call the function"
   ]
  }
 ],
 "metadata": {
  "kernelspec": {
   "display_name": ".env",
   "language": "python",
   "name": "python3"
  },
  "language_info": {
   "codemirror_mode": {
    "name": "ipython",
    "version": 3
   },
   "file_extension": ".py",
   "mimetype": "text/x-python",
   "name": "python",
   "nbconvert_exporter": "python",
   "pygments_lexer": "ipython3",
   "version": "3.9.18"
  },
  "vscode": {
   "interpreter": {
    "hash": "18f6cda260415cbc8c0bc229105ce449ae0813be81d3fe2b85d9f14cca338e8b"
   }
  }
 },
 "nbformat": 4,
 "nbformat_minor": 4
}
