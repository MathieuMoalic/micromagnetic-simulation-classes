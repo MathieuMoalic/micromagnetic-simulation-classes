{
 "cells": [
  {
   "cell_type": "markdown",
   "metadata": {},
   "source": [
    "# Evaluation Criteria for Students\n",
    "\n",
    "## Objective\n",
    "\n",
    "Students will be evaluated on a small one on one oral presentation based on a report they must write. \n",
    "Each student will run a similar but unique simulation and analyze the outputs in a report.\n",
    "The report should be in the form of a python notebook (ipynb) and cover each point worked on during the course, as presented in the ipynb files provided.\n",
    "\n",
    "## Report Requirements\n",
    "\n",
    "1. **Comprehensiveness**: The report must include a detailed overview of all topics covered in the course. Each section of the ipynb files should be addressed, providing a summary of the key points, methodologies used, and findings.\n",
    "\n",
    "2. **Understanding**: The report should demonstrate a deep understanding of the course material. It should not only summarize the ipynb files but also include critical analysis and personal insights into the topics discussed.\n",
    "\n",
    "3. **Clarity and Organization**: The report should be well-organized, with a clear structure that follows the flow of the course. Each section of the report should correspond to a specific part of the course, making it easy to understand the progression of topics.\n",
    "\n",
    "4. **Technical Accuracy**: All technical terms, concepts, and processes described in the report must be accurate. The report should clearly demonstrate the student's ability to grasp and apply the course material.\n",
    "\n",
    "5. **Analysis of the input script**: The report should include the input script. It should explain, what is the purpose of each of the lines of the input script.\n",
    "\n",
    "6. **Visuals and Examples**: The report should include visuals to support the text. These visuals should be clearly labeled and referenced in the report. Examples of code, simulations, or experiments discussed during the course should be accurately described and analyzed.\n",
    "\n",
    "**!!! EACH NUMBER SHOWN ON A PLOT MUST BE ASSOCIATED WITH A PHYSICAL QUANTITY AND A UNIT (UNLESS IT'S UNITLESS)**\n",
    "\n",
    "### Report structure\n",
    "\n",
    "- Creating the reference system: The geometry, the material parameters, magnetization at rest ( without magnetic field), ...\n",
    "- Adding an external magnetic field: Compare with reference system, what are the changes and why?\n",
    "- Adding periodic boundary condition, with and without the field: Compare with reference system, what are the changes and why?\n",
    "- Changing some material parameters, choose a value of PBC and field: Compare with reference system, what are the changes and why?\n",
    "- Hysteresis loop: Plot and analyse the changes of magnetization as we change the external field.\n",
    "     \n",
    "## Oral Presentation\n",
    "\n",
    "1. **Content**: The presentation should cover the main points of the report, highlighting the student's understanding of the course material. It should include a brief overview of each topic covered in the course, key findings, and any conclusions drawn by the student.\n",
    "\n",
    "2. **Delivery**: The student should present the material clearly and confidently, demonstrating a thorough understanding of the content. The presentation should be well-paced, with sufficient time allocated to each topic to allow for a comprehensive overview without rushing.\n",
    "\n",
    "## Evaluation Process\n",
    "The final grade will consider both the written report and the oral presentation. "
   ]
  }
 ],
 "metadata": {
  "kernelspec": {
   "display_name": "Python 3",
   "language": "python",
   "name": "python3"
  },
  "language_info": {
   "codemirror_mode": {
    "name": "ipython",
    "version": 3
   },
   "file_extension": ".py",
   "mimetype": "text/x-python",
   "name": "python",
   "nbconvert_exporter": "python",
   "pygments_lexer": "ipython3",
   "version": "3.9.18"
  }
 },
 "nbformat": 4,
 "nbformat_minor": 2
}
